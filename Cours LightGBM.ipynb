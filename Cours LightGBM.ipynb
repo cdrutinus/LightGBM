{
 "cells": [
  {
   "cell_type": "code",
   "execution_count": 127,
   "metadata": {},
   "outputs": [],
   "source": [
    "# pip install lightgbm\n",
    "# pip install ipywidgets"
   ]
  },
  {
   "cell_type": "code",
   "execution_count": 233,
   "metadata": {},
   "outputs": [],
   "source": [
    "import lightgbm as lgb\n",
    "import numpy as np\n",
    "import pandas as pd\n",
    "from sklearn import datasets\n",
    "from sklearn.utils import shuffle\n",
    "%matplotlib inline\n",
    "import matplotlib.pyplot as plt\n",
    "from sklearn.metrics import confusion_matrix\n",
    "import time\n",
    "\n",
    "from lightgbm import LGBMClassifier\n",
    "\n",
    "try:\n",
    "    # To enable interactive mode you should install ipywidgets\n",
    "    # pip install ipywidgets\n",
    "    from ipywidgets import interact, SelectMultiple\n",
    "    INTERACTIVE = True\n",
    "except ImportError:\n",
    "    INTERACTIVE = False"
   ]
  },
  {
   "cell_type": "code",
   "execution_count": 160,
   "metadata": {},
   "outputs": [
    {
     "data": {
      "text/plain": [
       "<matplotlib.collections.PathCollection at 0x7ff5d738ef10>"
      ]
     },
     "execution_count": 160,
     "metadata": {},
     "output_type": "execute_result"
    },
    {
     "data": {
      "image/png": "[encoded data removed]",
      "text/plain": [
       "<Figure size 504x504 with 1 Axes>"
      ]
     },
     "metadata": {
      "needs_background": "light"
     },
     "output_type": "display_data"
    }
   ],
   "source": [
    "X1, y1 = datasets.make_gaussian_quantiles(cov=2.,\n",
    "                                 n_samples=300, n_features=2,\n",
    "                                 n_classes=2, random_state=1)\n",
    "X2, y2 = datasets.make_gaussian_quantiles(mean=(3, 3), cov=1.5,\n",
    "                                 n_samples=700, n_features=2,\n",
    "                                 n_classes=2, random_state=1)\n",
    "X = np.concatenate((X1, X2))\n",
    "y = np.concatenate((y1, - y2 + 1))\n",
    "y = 2*y-1\n",
    "\n",
    "Xblue = X[y==-1]\n",
    "Xred = X[y==1]\n",
    "plt.figure(figsize=(7,7))\n",
    "plt.scatter(Xblue[:,0],Xblue[:,1],c='b',s=20)\n",
    "plt.scatter(Xred[:,0],Xred[:,1],c='r',s=20)"
   ]
  },
  {
   "cell_type": "code",
   "execution_count": 175,
   "metadata": {},
   "outputs": [],
   "source": [
    "def shuffle_split(X,y,k):\n",
    "    if k<0 or k>1:\n",
    "        print(\"Error : Parameter k must be between 0 and 1.\")\n",
    "        return 0\n",
    "    \n",
    "    n=len(X)\n",
    "    \n",
    "    X, y = shuffle(X, y)\n",
    "    \n",
    "    X_train, X_test = np.split(X,[int(n*k)])\n",
    "    y_train, y_test = np.split(y,[int(n*k)])\n",
    "    \n",
    "    return X_train, y_train, X_test, y_test\n",
    "\n",
    "X_train, y_train, X_test, y_test = shuffle_split(X,y,0.8)"
   ]
  },
  {
   "cell_type": "code",
   "execution_count": 162,
   "metadata": {},
   "outputs": [
    {
     "name": "stdout",
     "output_type": "stream",
     "text": [
      "Training until validation scores don't improve for 5 rounds\n",
      "[10]\tTraining data's binary_logloss: 0.39115\tTraining data's auc: 0.952756\tTest data's binary_logloss: 0.437115\tTest data's auc: 0.908816\n",
      "[20]\tTraining data's binary_logloss: 0.289233\tTraining data's auc: 0.9746\tTest data's binary_logloss: 0.357807\tTest data's auc: 0.934524\n",
      "[30]\tTraining data's binary_logloss: 0.235339\tTraining data's auc: 0.981549\tTest data's binary_logloss: 0.31921\tTest data's auc: 0.943555\n",
      "[40]\tTraining data's binary_logloss: 0.197837\tTraining data's auc: 0.987693\tTest data's binary_logloss: 0.295956\tTest data's auc: 0.950534\n",
      "[50]\tTraining data's binary_logloss: 0.170639\tTraining data's auc: 0.990313\tTest data's binary_logloss: 0.280097\tTest data's auc: 0.955768\n",
      "[60]\tTraining data's binary_logloss: 0.152449\tTraining data's auc: 0.991828\tTest data's binary_logloss: 0.269302\tTest data's auc: 0.959154\n",
      "Early stopping, best iteration is:\n",
      "[57]\tTraining data's binary_logloss: 0.156995\tTraining data's auc: 0.991621\tTest data's binary_logloss: 0.271209\tTest data's auc: 0.959154\n"
     ]
    },
    {
     "data": {
      "text/plain": [
       "LGBMClassifier(max_depth=4, num_leaves=7, objective='binary')"
      ]
     },
     "execution_count": 162,
     "metadata": {},
     "output_type": "execute_result"
    }
   ],
   "source": [
    "model = LGBMClassifier(boosting_type='gbdt',\n",
    "                       num_leaves = 7,\n",
    "                       max_depth = 4,\n",
    "                       learning_rate = 0.1,\n",
    "                       n_estimators = 100,\n",
    "                       objective='binary')\n",
    "\n",
    "metrics = ['binary_logloss','auc']\n",
    "\n",
    "model.fit(X_train,\n",
    "          y_train,\n",
    "          eval_set = [(X_train, y_train), (X_test, y_test)],\n",
    "          eval_names = ['Training data', 'Test data'],\n",
    "          eval_metric = metrics,\n",
    "          early_stopping_rounds = 5,\n",
    "          verbose = 10,\n",
    "          feature_name = ['X','Y'])"
   ]
  },
  {
   "cell_type": "code",
   "execution_count": 163,
   "metadata": {},
   "outputs": [],
   "source": [
    "def render_metric(metric_name):\n",
    "    ax = lgb.plot_metric(model.evals_result_, metric=metric_name, figsize=(10, 5))\n",
    "    plt.show()"
   ]
  },
  {
   "cell_type": "code",
   "execution_count": 164,
   "metadata": {},
   "outputs": [
    {
     "data": {
      "application/vnd.jupyter.widget-view+json": {
       "model_id": "2f9fd930452b42ac9625593cab434f3a",
       "version_major": 2,
       "version_minor": 0
      },
      "text/plain": [
       "interactive(children=(Dropdown(description='metric_name', options=('binary_logloss', 'auc'), value='binary_log…"
      ]
     },
     "metadata": {},
     "output_type": "display_data"
    }
   ],
   "source": [
    "if INTERACTIVE:\n",
    "    # create widget to switch between metrics\n",
    "    interact(render_metric, metric_name=metrics)\n",
    "else:\n",
    "    for metric in metrics:\n",
    "        render_metric(metric)"
   ]
  },
  {
   "cell_type": "code",
   "execution_count": 166,
   "metadata": {},
   "outputs": [
    {
     "name": "stdout",
     "output_type": "stream",
     "text": [
      "[[ 78   6]\n",
      " [ 16 100]]\n",
      "0.89\n"
     ]
    }
   ],
   "source": [
    "ypred = model.predict(X_test)\n",
    "\n",
    "matrix = confusion_matrix(y_test, ypred)\n",
    "print(matrix)\n",
    "\n",
    "print(model.score(X_test, y_test))"
   ]
  },
  {
   "cell_type": "code",
   "execution_count": 167,
   "metadata": {},
   "outputs": [],
   "source": [
    "def plot_decision_boundary(model, X, y, fig_size=(7,7)):\n",
    "    plot_step = 0.02\n",
    "    x0_min, x0_max = X[:, 0].min() - 1, X[:, 0].max() + 1\n",
    "    x1_min, x1_max = X[:, 1].min() - 1, X[:, 1].max() + 1\n",
    "    xx0, xx1 = np.meshgrid(np.arange(x0_min, x0_max, plot_step), np.arange(x1_min, x1_max, plot_step))\n",
    "    yypred = model.predict(np.c_[xx0.ravel(),xx1.ravel()])\n",
    "    yypred = yypred.reshape(xx0.shape)\n",
    "    plt.figure(figsize=fig_size)\n",
    "    plt.contourf(xx0, xx1, yypred, cmap=plt.cm.Paired)\n",
    "    y_pred = model.predict(X)\n",
    "    Xblue_good = X[np.equal(y,-1)*np.equal(y,y_pred)]\n",
    "    Xblue_bad  = X[np.equal(y,-1)*np.not_equal(y,y_pred)]\n",
    "    Xred_good  = X[np.equal(y,1)*np.equal(y,y_pred)]\n",
    "    Xred_bad   = X[np.equal(y,1)*np.not_equal(y,y_pred)]\n",
    "    plt.scatter(Xblue_good[:,0],Xblue_good[:,1],c='b',s=20)\n",
    "    plt.scatter(Xblue_bad[:,0],Xblue_bad[:,1],c='c',marker='v',s=20)\n",
    "    plt.scatter(Xred_good[:,0],Xred_good[:,1],c='r',s=20)\n",
    "    plt.scatter(Xred_bad[:,0],Xred_bad[:,1],c='m',marker='v',s=20)\n",
    "    plt.show()"
   ]
  },
  {
   "cell_type": "code",
   "execution_count": 168,
   "metadata": {},
   "outputs": [
    {
     "data": {
      "image/png": "[encoded data removed]",
      "text/plain": [
       "<Figure size 504x504 with 1 Axes>"
      ]
     },
     "metadata": {
      "needs_background": "light"
     },
     "output_type": "display_data"
    }
   ],
   "source": [
    "plot_decision_boundary(model,X,y)"
   ]
  },
  {
   "cell_type": "code",
   "execution_count": 170,
   "metadata": {},
   "outputs": [],
   "source": [
    "def render_tree(tree_index, show_info, precision=3):\n",
    "    show_info = None if 'None' in show_info else show_info\n",
    "    return lgb.create_tree_digraph(model, tree_index=tree_index,\n",
    "                                   show_info=show_info, precision=precision)"
   ]
  },
  {
   "cell_type": "code",
   "execution_count": 173,
   "metadata": {},
   "outputs": [
    {
     "data": {
      "application/vnd.jupyter.widget-view+json": {
       "model_id": "d7f89b58587b43318b2ddfd3a8ba2528",
       "version_major": 2,
       "version_minor": 0
      },
      "text/plain": [
       "interactive(children=(IntSlider(value=37, description='tree_index', max=74), SelectMultiple(description='show_…"
      ]
     },
     "metadata": {},
     "output_type": "display_data"
    }
   ],
   "source": [
    "if INTERACTIVE:\n",
    "    # create widget to switch between trees and control info in nodes\n",
    "    interact(render_tree,\n",
    "             tree_index=(0, gbm.num_trees() - 1),\n",
    "             show_info=SelectMultiple(  # allow multiple values to be selected\n",
    "                 options=['None',\n",
    "                          'split_gain',\n",
    "                          'internal_count',\n",
    "                          'data_percentage'],\n",
    "                 value=['None']),\n",
    "             precision=(0, 4))\n",
    "    tree = None\n",
    "else:\n",
    "    tree = render_tree(53, ['None'])\n",
    "tree"
   ]
  },
  {
   "cell_type": "markdown",
   "metadata": {},
   "source": [
    "## Examples"
   ]
  },
  {
   "cell_type": "markdown",
   "metadata": {},
   "source": [
    "#### NIST"
   ]
  },
  {
   "cell_type": "code",
   "execution_count": 199,
   "metadata": {},
   "outputs": [],
   "source": [
    "from sklearn import datasets\n",
    "\n",
    "digits = datasets.load_digits()\n",
    "#print(digits.DESCR)\n",
    "\n",
    "X = digits.data\n",
    "Y = digits.target\n",
    "\n",
    "X_train,y_train,X_test,y_test = shuffle_split(X,Y,0.75)"
   ]
  },
  {
   "cell_type": "code",
   "execution_count": 200,
   "metadata": {},
   "outputs": [
    {
     "name": "stdout",
     "output_type": "stream",
     "text": [
      "Training until validation scores don't improve for 5 rounds\n",
      "[10]\tTraining data's multi_logloss: 0.452072\tTest data's multi_logloss: 0.571061\n",
      "[20]\tTraining data's multi_logloss: 0.152052\tTest data's multi_logloss: 0.269039\n",
      "[30]\tTraining data's multi_logloss: 0.0567579\tTest data's multi_logloss: 0.170271\n",
      "[40]\tTraining data's multi_logloss: 0.02266\tTest data's multi_logloss: 0.127905\n",
      "[50]\tTraining data's multi_logloss: 0.00952297\tTest data's multi_logloss: 0.108438\n",
      "[60]\tTraining data's multi_logloss: 0.00416586\tTest data's multi_logloss: 0.094934\n",
      "[70]\tTraining data's multi_logloss: 0.00186383\tTest data's multi_logloss: 0.0903048\n",
      "[80]\tTraining data's multi_logloss: 0.000850756\tTest data's multi_logloss: 0.0900477\n",
      "[90]\tTraining data's multi_logloss: 0.000394904\tTest data's multi_logloss: 0.0875665\n",
      "[100]\tTraining data's multi_logloss: 0.000185036\tTest data's multi_logloss: 0.0852786\n",
      "Did not meet early stopping. Best iteration is:\n",
      "[100]\tTraining data's multi_logloss: 0.000185036\tTest data's multi_logloss: 0.0852786\n"
     ]
    },
    {
     "data": {
      "text/plain": [
       "LGBMClassifier(max_depth=4, num_leaves=7, objective='multiclass')"
      ]
     },
     "execution_count": 200,
     "metadata": {},
     "output_type": "execute_result"
    }
   ],
   "source": [
    "model = LGBMClassifier(boosting_type='gbdt',\n",
    "                       num_leaves = 7,\n",
    "                       max_depth = 4,\n",
    "                       learning_rate = 0.1,\n",
    "                       n_estimators = 100,\n",
    "                       objective='multiclass')\n",
    "\n",
    "metrics = ['multi_logloss']\n",
    "\n",
    "model.fit(X_train,\n",
    "          y_train,\n",
    "          eval_set = [(X_train, y_train), (X_test, y_test)],\n",
    "          eval_names = ['Training data', 'Test data'],\n",
    "          eval_metric = metrics,\n",
    "          early_stopping_rounds = 5,\n",
    "          verbose = 10)"
   ]
  },
  {
   "cell_type": "code",
   "execution_count": 203,
   "metadata": {},
   "outputs": [
    {
     "data": {
      "application/vnd.jupyter.widget-view+json": {
       "model_id": "7ff6e64d15a64e15ac271e0c98a47e40",
       "version_major": 2,
       "version_minor": 0
      },
      "text/plain": [
       "interactive(children=(Dropdown(description='metric_name', options=('multi_logloss',), value='multi_logloss'), …"
      ]
     },
     "metadata": {},
     "output_type": "display_data"
    },
    {
     "name": "stdout",
     "output_type": "stream",
     "text": [
      "Training score : 1.0\n",
      "Genralization score : 0.973\n"
     ]
    }
   ],
   "source": [
    "if INTERACTIVE:\n",
    "    # create widget to switch between metrics\n",
    "    interact(render_metric, metric_name=metrics)\n",
    "else:\n",
    "    for metric in metrics:\n",
    "        render_metric(metric)\n",
    "        \n",
    "print('Training score : {}'.format(round(model.score(X_train,y_train),3)))\n",
    "print('Genralization score : {}'.format(round(model.score(X_test,y_test),3)))"
   ]
  },
  {
   "cell_type": "markdown",
   "metadata": {},
   "source": [
    "#### Wine"
   ]
  },
  {
   "cell_type": "code",
   "execution_count": 204,
   "metadata": {},
   "outputs": [],
   "source": [
    "wine = datasets.load_wine()\n",
    "#print(wine.DESCR)\n",
    "\n",
    "X = wine.data\n",
    "Y = wine.target\n",
    "\n",
    "X_train,y_train,X_test,y_test = shuffle_split(X,Y,0.75)"
   ]
  },
  {
   "cell_type": "code",
   "execution_count": 205,
   "metadata": {},
   "outputs": [
    {
     "name": "stdout",
     "output_type": "stream",
     "text": [
      "Training until validation scores don't improve for 5 rounds\n",
      "[10]\tTraining data's multi_logloss: 0.323846\tTest data's multi_logloss: 0.386082\n",
      "[20]\tTraining data's multi_logloss: 0.126187\tTest data's multi_logloss: 0.179839\n",
      "[30]\tTraining data's multi_logloss: 0.0507877\tTest data's multi_logloss: 0.0863606\n",
      "[40]\tTraining data's multi_logloss: 0.0211735\tTest data's multi_logloss: 0.0411224\n",
      "[50]\tTraining data's multi_logloss: 0.00842261\tTest data's multi_logloss: 0.0206304\n",
      "[60]\tTraining data's multi_logloss: 0.00346563\tTest data's multi_logloss: 0.0106843\n",
      "[70]\tTraining data's multi_logloss: 0.00147213\tTest data's multi_logloss: 0.00621676\n",
      "[80]\tTraining data's multi_logloss: 0.000608018\tTest data's multi_logloss: 0.00385367\n",
      "[90]\tTraining data's multi_logloss: 0.000256116\tTest data's multi_logloss: 0.00240723\n",
      "[100]\tTraining data's multi_logloss: 0.000112825\tTest data's multi_logloss: 0.00167456\n",
      "Did not meet early stopping. Best iteration is:\n",
      "[100]\tTraining data's multi_logloss: 0.000112825\tTest data's multi_logloss: 0.00167456\n"
     ]
    },
    {
     "data": {
      "text/plain": [
       "LGBMClassifier(max_depth=4, num_leaves=7, objective='multiclass')"
      ]
     },
     "execution_count": 205,
     "metadata": {},
     "output_type": "execute_result"
    }
   ],
   "source": [
    "model = LGBMClassifier(boosting_type='gbdt',\n",
    "                       num_leaves = 7,\n",
    "                       max_depth = 4,\n",
    "                       learning_rate = 0.1,\n",
    "                       n_estimators = 100,\n",
    "                       objective='multiclass')\n",
    "\n",
    "metrics = ['multi_logloss']\n",
    "\n",
    "model.fit(X_train,\n",
    "          y_train,\n",
    "          eval_set = [(X_train, y_train), (X_test, y_test)],\n",
    "          eval_names = ['Training data', 'Test data'],\n",
    "          eval_metric = metrics,\n",
    "          early_stopping_rounds = 5,\n",
    "          verbose = 10)"
   ]
  },
  {
   "cell_type": "code",
   "execution_count": 206,
   "metadata": {},
   "outputs": [
    {
     "data": {
      "application/vnd.jupyter.widget-view+json": {
       "model_id": "6663f2978c724a2aaea2bd29d0ba718d",
       "version_major": 2,
       "version_minor": 0
      },
      "text/plain": [
       "interactive(children=(Dropdown(description='metric_name', options=('multi_logloss',), value='multi_logloss'), …"
      ]
     },
     "metadata": {},
     "output_type": "display_data"
    },
    {
     "name": "stdout",
     "output_type": "stream",
     "text": [
      "Training score : 1.0\n",
      "Genralization score : 1.0\n"
     ]
    }
   ],
   "source": [
    "if INTERACTIVE:\n",
    "    # create widget to switch between metrics\n",
    "    interact(render_metric, metric_name=metrics)\n",
    "else:\n",
    "    for metric in metrics:\n",
    "        render_metric(metric)\n",
    "        \n",
    "print('Training score : {}'.format(round(model.score(X_train,y_train),3)))\n",
    "print('Genralization score : {}'.format(round(model.score(X_test,y_test),3)))"
   ]
  },
  {
   "cell_type": "markdown",
   "metadata": {},
   "source": [
    "## Comparaison XGBoost et LightGBM"
   ]
  },
  {
   "cell_type": "code",
   "execution_count": 227,
   "metadata": {},
   "outputs": [
    {
     "name": "stdout",
     "output_type": "stream",
     "text": [
      "(284807, 30)\n",
      "(284807,)\n"
     ]
    },
    {
     "data": {
      "text/html": [
       "<div>\n",
       "<style scoped>\n",
       "    .dataframe tbody tr th:only-of-type {\n",
       "        vertical-align: middle;\n",
       "    }\n",
       "\n",
       "    .dataframe tbody tr th {\n",
       "        vertical-align: top;\n",
       "    }\n",
       "\n",
       "    .dataframe thead th {\n",
       "        text-align: right;\n",
       "    }\n",
       "</style>\n",
       "<table border=\"1\" class=\"dataframe\">\n",
       "  <thead>\n",
       "    <tr style=\"text-align: right;\">\n",
       "      <th></th>\n",
       "      <th>Time</th>\n",
       "      <th>V1</th>\n",
       "      <th>V2</th>\n",
       "      <th>V3</th>\n",
       "      <th>V4</th>\n",
       "      <th>V5</th>\n",
       "      <th>V6</th>\n",
       "      <th>V7</th>\n",
       "      <th>V8</th>\n",
       "      <th>V9</th>\n",
       "      <th>...</th>\n",
       "      <th>V21</th>\n",
       "      <th>V22</th>\n",
       "      <th>V23</th>\n",
       "      <th>V24</th>\n",
       "      <th>V25</th>\n",
       "      <th>V26</th>\n",
       "      <th>V27</th>\n",
       "      <th>V28</th>\n",
       "      <th>Amount</th>\n",
       "      <th>Class</th>\n",
       "    </tr>\n",
       "  </thead>\n",
       "  <tbody>\n",
       "    <tr>\n",
       "      <th>0</th>\n",
       "      <td>0.0</td>\n",
       "      <td>-1.359807</td>\n",
       "      <td>-0.072781</td>\n",
       "      <td>2.536347</td>\n",
       "      <td>1.378155</td>\n",
       "      <td>-0.338321</td>\n",
       "      <td>0.462388</td>\n",
       "      <td>0.239599</td>\n",
       "      <td>0.098698</td>\n",
       "      <td>0.363787</td>\n",
       "      <td>...</td>\n",
       "      <td>-0.018307</td>\n",
       "      <td>0.277838</td>\n",
       "      <td>-0.110474</td>\n",
       "      <td>0.066928</td>\n",
       "      <td>0.128539</td>\n",
       "      <td>-0.189115</td>\n",
       "      <td>0.133558</td>\n",
       "      <td>-0.021053</td>\n",
       "      <td>149.62</td>\n",
       "      <td>0</td>\n",
       "    </tr>\n",
       "    <tr>\n",
       "      <th>1</th>\n",
       "      <td>0.0</td>\n",
       "      <td>1.191857</td>\n",
       "      <td>0.266151</td>\n",
       "      <td>0.166480</td>\n",
       "      <td>0.448154</td>\n",
       "      <td>0.060018</td>\n",
       "      <td>-0.082361</td>\n",
       "      <td>-0.078803</td>\n",
       "      <td>0.085102</td>\n",
       "      <td>-0.255425</td>\n",
       "      <td>...</td>\n",
       "      <td>-0.225775</td>\n",
       "      <td>-0.638672</td>\n",
       "      <td>0.101288</td>\n",
       "      <td>-0.339846</td>\n",
       "      <td>0.167170</td>\n",
       "      <td>0.125895</td>\n",
       "      <td>-0.008983</td>\n",
       "      <td>0.014724</td>\n",
       "      <td>2.69</td>\n",
       "      <td>0</td>\n",
       "    </tr>\n",
       "    <tr>\n",
       "      <th>2</th>\n",
       "      <td>1.0</td>\n",
       "      <td>-1.358354</td>\n",
       "      <td>-1.340163</td>\n",
       "      <td>1.773209</td>\n",
       "      <td>0.379780</td>\n",
       "      <td>-0.503198</td>\n",
       "      <td>1.800499</td>\n",
       "      <td>0.791461</td>\n",
       "      <td>0.247676</td>\n",
       "      <td>-1.514654</td>\n",
       "      <td>...</td>\n",
       "      <td>0.247998</td>\n",
       "      <td>0.771679</td>\n",
       "      <td>0.909412</td>\n",
       "      <td>-0.689281</td>\n",
       "      <td>-0.327642</td>\n",
       "      <td>-0.139097</td>\n",
       "      <td>-0.055353</td>\n",
       "      <td>-0.059752</td>\n",
       "      <td>378.66</td>\n",
       "      <td>0</td>\n",
       "    </tr>\n",
       "    <tr>\n",
       "      <th>3</th>\n",
       "      <td>1.0</td>\n",
       "      <td>-0.966272</td>\n",
       "      <td>-0.185226</td>\n",
       "      <td>1.792993</td>\n",
       "      <td>-0.863291</td>\n",
       "      <td>-0.010309</td>\n",
       "      <td>1.247203</td>\n",
       "      <td>0.237609</td>\n",
       "      <td>0.377436</td>\n",
       "      <td>-1.387024</td>\n",
       "      <td>...</td>\n",
       "      <td>-0.108300</td>\n",
       "      <td>0.005274</td>\n",
       "      <td>-0.190321</td>\n",
       "      <td>-1.175575</td>\n",
       "      <td>0.647376</td>\n",
       "      <td>-0.221929</td>\n",
       "      <td>0.062723</td>\n",
       "      <td>0.061458</td>\n",
       "      <td>123.50</td>\n",
       "      <td>0</td>\n",
       "    </tr>\n",
       "    <tr>\n",
       "      <th>4</th>\n",
       "      <td>2.0</td>\n",
       "      <td>-1.158233</td>\n",
       "      <td>0.877737</td>\n",
       "      <td>1.548718</td>\n",
       "      <td>0.403034</td>\n",
       "      <td>-0.407193</td>\n",
       "      <td>0.095921</td>\n",
       "      <td>0.592941</td>\n",
       "      <td>-0.270533</td>\n",
       "      <td>0.817739</td>\n",
       "      <td>...</td>\n",
       "      <td>-0.009431</td>\n",
       "      <td>0.798278</td>\n",
       "      <td>-0.137458</td>\n",
       "      <td>0.141267</td>\n",
       "      <td>-0.206010</td>\n",
       "      <td>0.502292</td>\n",
       "      <td>0.219422</td>\n",
       "      <td>0.215153</td>\n",
       "      <td>69.99</td>\n",
       "      <td>0</td>\n",
       "    </tr>\n",
       "  </tbody>\n",
       "</table>\n",
       "<p>5 rows × 31 columns</p>\n",
       "</div>"
      ],
      "text/plain": [
       "   Time        V1        V2        V3        V4        V5        V6        V7  \\\n",
       "0   0.0 -1.359807 -0.072781  2.536347  1.378155 -0.338321  0.462388  0.239599   \n",
       "1   0.0  1.191857  0.266151  0.166480  0.448154  0.060018 -0.082361 -0.078803   \n",
       "2   1.0 -1.358354 -1.340163  1.773209  0.379780 -0.503198  1.800499  0.791461   \n",
       "3   1.0 -0.966272 -0.185226  1.792993 -0.863291 -0.010309  1.247203  0.237609   \n",
       "4   2.0 -1.158233  0.877737  1.548718  0.403034 -0.407193  0.095921  0.592941   \n",
       "\n",
       "         V8        V9  ...       V21       V22       V23       V24       V25  \\\n",
       "0  0.098698  0.363787  ... -0.018307  0.277838 -0.110474  0.066928  0.128539   \n",
       "1  0.085102 -0.255425  ... -0.225775 -0.638672  0.101288 -0.339846  0.167170   \n",
       "2  0.247676 -1.514654  ...  0.247998  0.771679  0.909412 -0.689281 -0.327642   \n",
       "3  0.377436 -1.387024  ... -0.108300  0.005274 -0.190321 -1.175575  0.647376   \n",
       "4 -0.270533  0.817739  ... -0.009431  0.798278 -0.137458  0.141267 -0.206010   \n",
       "\n",
       "        V26       V27       V28  Amount  Class  \n",
       "0 -0.189115  0.133558 -0.021053  149.62      0  \n",
       "1  0.125895 -0.008983  0.014724    2.69      0  \n",
       "2 -0.139097 -0.055353 -0.059752  378.66      0  \n",
       "3 -0.221929  0.062723  0.061458  123.50      0  \n",
       "4  0.502292  0.219422  0.215153   69.99      0  \n",
       "\n",
       "[5 rows x 31 columns]"
      ]
     },
     "execution_count": 227,
     "metadata": {},
     "output_type": "execute_result"
    }
   ],
   "source": [
    "dataframe=pd.read_csv(\"./archive/creditcard.csv\",sep=',')\n",
    "\n",
    "X = dataframe.drop(['Class'], axis=1)\n",
    "y = dataframe['Class']\n",
    "\n",
    "print(X.shape)\n",
    "print(y.shape)\n",
    "\n",
    "dataframe.head()"
   ]
  },
  {
   "cell_type": "code",
   "execution_count": 237,
   "metadata": {},
   "outputs": [
    {
     "name": "stdout",
     "output_type": "stream",
     "text": [
      "[10]\tTraining data's binary_logloss: 0.0128825\tTraining data's auc: 0.851075\tTest data's binary_logloss: 0.0213166\tTest data's auc: 0.763704\n",
      "[20]\tTraining data's binary_logloss: 0.0167145\tTraining data's auc: 0.873084\tTest data's binary_logloss: 0.0300563\tTest data's auc: 0.770275\n",
      "Elapsed time : 2.132s\n"
     ]
    }
   ],
   "source": [
    "X_train,y_train,X_test,y_test = shuffle_split(X,y,0.7)\n",
    "\n",
    "model = LGBMClassifier(boosting_type='gbdt',\n",
    "                       num_leaves = 7,\n",
    "                       max_depth = 4,\n",
    "                       learning_rate = 0.1,\n",
    "                       n_estimators = 25,\n",
    "                       objective='binary')\n",
    "\n",
    "metrics = ['binary_logloss','auc']\n",
    "\n",
    "start = time.time()\n",
    "\n",
    "model.fit(X_train,\n",
    "          y_train,\n",
    "          eval_set = [(X_train, y_train), (X_test, y_test)],\n",
    "          eval_names = ['Training data', 'Test data'],\n",
    "          eval_metric = metrics,\n",
    "          #early_stopping_rounds = 10,\n",
    "          verbose = 10)\n",
    "\n",
    "end = time.time()\n",
    "print('Elapsed time : {}s'.format(round(end-start,3)))"
   ]
  },
  {
   "cell_type": "code",
   "execution_count": null,
   "metadata": {},
   "outputs": [],
   "source": []
  }
 ],
 "metadata": {
  "kernelspec": {
   "display_name": "Python 3",
   "language": "python",
   "name": "python3"
  },
  "language_info": {
   "codemirror_mode": {
    "name": "ipython",
    "version": 3
   },
   "file_extension": ".py",
   "mimetype": "text/x-python",
   "name": "python",
   "nbconvert_exporter": "python",
   "pygments_lexer": "ipython3",
   "version": "3.8.3"
  }
 },
 "nbformat": 4,
 "nbformat_minor": 4
}
